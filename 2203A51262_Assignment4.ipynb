{
  "nbformat": 4,
  "nbformat_minor": 0,
  "metadata": {
    "colab": {
      "provenance": []
    },
    "kernelspec": {
      "name": "python3",
      "display_name": "Python 3"
    },
    "language_info": {
      "name": "python"
    }
  },
  "cells": [
    {
      "cell_type": "code",
      "execution_count": 2,
      "metadata": {
        "id": "ntvz2oHFJlUB",
        "colab": {
          "base_uri": "https://localhost:8080/"
        },
        "outputId": "353b1f86-1549-4f68-8037-31a11bdce04b"
      },
      "outputs": [
        {
          "output_type": "stream",
          "name": "stdout",
          "text": [
            "Description of the data:\n",
            "           longitude      latitude  housing_median_age   total_rooms  \\\n",
            "count  20640.000000  20640.000000        20640.000000  20640.000000   \n",
            "mean    -119.569704     35.631861           28.639486   2635.763081   \n",
            "std        2.003532      2.135952           12.585558   2181.615252   \n",
            "min     -124.350000     32.540000            1.000000      2.000000   \n",
            "25%     -121.800000     33.930000           18.000000   1447.750000   \n",
            "50%     -118.490000     34.260000           29.000000   2127.000000   \n",
            "75%     -118.010000     37.710000           37.000000   3148.000000   \n",
            "max     -114.310000     41.950000           52.000000  39320.000000   \n",
            "\n",
            "       total_bedrooms    population    households  median_income  \\\n",
            "count    20433.000000  20640.000000  20640.000000   20640.000000   \n",
            "mean       537.870553   1425.476744    499.539680       3.870671   \n",
            "std        421.385070   1132.462122    382.329753       1.899822   \n",
            "min          1.000000      3.000000      1.000000       0.499900   \n",
            "25%        296.000000    787.000000    280.000000       2.563400   \n",
            "50%        435.000000   1166.000000    409.000000       3.534800   \n",
            "75%        647.000000   1725.000000    605.000000       4.743250   \n",
            "max       6445.000000  35682.000000   6082.000000      15.000100   \n",
            "\n",
            "       median_house_value  \n",
            "count        20640.000000  \n",
            "mean        206855.816909  \n",
            "std         115395.615874  \n",
            "min          14999.000000  \n",
            "25%         119600.000000  \n",
            "50%         179700.000000  \n",
            "75%         264725.000000  \n",
            "max         500001.000000  \n"
          ]
        }
      ],
      "source": [
        "#Assignment 2\n",
        "\n",
        "#1.Read the data with pandas and describe the data\n",
        "\n",
        "#--------------------------------------------------------code-----------------------------------------------------------------------------------------------------------------------\n",
        "\n",
        "import pandas as pd\n",
        "data = pd.read_csv(\"/content/housing.csv\")\n",
        "description = data.describe()\n",
        "print(\"Description of the data:\\n\",description)"
      ]
    },
    {
      "cell_type": "code",
      "source": [
        "#2.Find data type and shape of each column\n",
        "\n",
        "#--------------------------------------------------------code-----------------------------------------------------------------------------------------------------------------------\n",
        "\n",
        "import pandas as pd\n",
        "data = pd.read_csv(\"/content/sample_data/california_housing_test.csv\")\n",
        "data_types = data.dtypes\n",
        "print(\"Data type of each column:\\n\", data_types)\n",
        "shape = data.shape\n",
        "print(\"\\nShape of the data:\", shape)"
      ],
      "metadata": {
        "colab": {
          "base_uri": "https://localhost:8080/"
        },
        "id": "-1WgJP2OMp22",
        "outputId": "57b47d86-5375-4604-9d4b-e3d632fe542c"
      },
      "execution_count": 3,
      "outputs": [
        {
          "output_type": "stream",
          "name": "stdout",
          "text": [
            "Data type of each column:\n",
            " longitude             float64\n",
            "latitude              float64\n",
            "housing_median_age    float64\n",
            "total_rooms           float64\n",
            "total_bedrooms        float64\n",
            "population            float64\n",
            "households            float64\n",
            "median_income         float64\n",
            "median_house_value    float64\n",
            "dtype: object\n",
            "\n",
            "Shape of the data: (3000, 9)\n"
          ]
        }
      ]
    },
    {
      "cell_type": "code",
      "source": [
        "#3.Find the null values (if yes fill the null values with ‘0’ or mean of that column)\n",
        "\n",
        "#--------------------------------------------------------code-----------------------------------------------------------------------------------------------------------------------\n",
        "\n",
        "import pandas as pd\n",
        "data = pd.read_csv(\"/content/sample_data/california_housing_test.csv\")\n",
        "null_values = data.isnull().sum()\n",
        "print(\"Null values in the data:\\n\", null_values)\n",
        "data.fillna(data.mean(), inplace=True)"
      ],
      "metadata": {
        "colab": {
          "base_uri": "https://localhost:8080/"
        },
        "id": "NxThQ9KaM4Gf",
        "outputId": "a4fa40b6-67b6-4cad-cf80-54518e8392e3"
      },
      "execution_count": 4,
      "outputs": [
        {
          "output_type": "stream",
          "name": "stdout",
          "text": [
            "Null values in the data:\n",
            " longitude             0\n",
            "latitude              0\n",
            "housing_median_age    0\n",
            "total_rooms           0\n",
            "total_bedrooms        0\n",
            "population            0\n",
            "households            0\n",
            "median_income         0\n",
            "median_house_value    0\n",
            "dtype: int64\n"
          ]
        }
      ]
    },
    {
      "cell_type": "code",
      "source": [
        "#4.find features and target variables\n",
        "\n",
        "#--------------------------------------------------------code-----------------------------------------------------------------------------------------------------------------------\n",
        "\n",
        "import pandas as pd\n",
        "data = pd.read_csv(\"/content/sample_data/california_housing_test.csv\")\n",
        "features = data.iloc[:, :-1]\n",
        "target = data.iloc[:, -1]\n",
        "print(\"Features:\")\n",
        "print(features.head())\n",
        "print(\"\\nTarget:\")\n",
        "print(target.head())"
      ],
      "metadata": {
        "colab": {
          "base_uri": "https://localhost:8080/"
        },
        "id": "vfDlP17ANZ_3",
        "outputId": "aae5ca49-cd4a-4c85-854c-9e09db6d90a5"
      },
      "execution_count": 5,
      "outputs": [
        {
          "output_type": "stream",
          "name": "stdout",
          "text": [
            "Features:\n",
            "   longitude  latitude  housing_median_age  total_rooms  total_bedrooms  \\\n",
            "0    -122.05     37.37                27.0       3885.0           661.0   \n",
            "1    -118.30     34.26                43.0       1510.0           310.0   \n",
            "2    -117.81     33.78                27.0       3589.0           507.0   \n",
            "3    -118.36     33.82                28.0         67.0            15.0   \n",
            "4    -119.67     36.33                19.0       1241.0           244.0   \n",
            "\n",
            "   population  households  median_income  \n",
            "0      1537.0       606.0         6.6085  \n",
            "1       809.0       277.0         3.5990  \n",
            "2      1484.0       495.0         5.7934  \n",
            "3        49.0        11.0         6.1359  \n",
            "4       850.0       237.0         2.9375  \n",
            "\n",
            "Target:\n",
            "0    344700.0\n",
            "1    176500.0\n",
            "2    270500.0\n",
            "3    330000.0\n",
            "4     81700.0\n",
            "Name: median_house_value, dtype: float64\n"
          ]
        }
      ]
    },
    {
      "cell_type": "code",
      "source": [
        "#5.Split the data into train and test.\n",
        "\n",
        "#---------------------------------------------------code-------------------------------------------------------------------------------------\n",
        "\n",
        "import pandas as pd\n",
        "from sklearn.model_selection import train_test_split\n",
        "\n",
        "\n",
        "\n",
        "target_column = data.columns[-1]\n",
        "\n",
        "features = data.drop(columns=[target_column])\n",
        "target = data[target_column]\n",
        "X_train, X_test, y_train, y_test = train_test_split(features, target, test_size=0.2, random_state=42)\n",
        "\n",
        "print(\"Shape of X_train:\", X_train.shape)\n",
        "print(\"Shape of X_test:\", X_test.shape)\n",
        "print(\"Shape of y_train:\", y_train.shape)\n",
        "print(\"Shape of y_test:\",y_test.shape)\n"
      ],
      "metadata": {
        "colab": {
          "base_uri": "https://localhost:8080/"
        },
        "id": "oZPzaAAdQahp",
        "outputId": "6e8d5d28-06bb-4c13-9d95-7752a98a7d32"
      },
      "execution_count": 8,
      "outputs": [
        {
          "output_type": "stream",
          "name": "stdout",
          "text": [
            "Shape of X_train: (2400, 8)\n",
            "Shape of X_test: (600, 8)\n",
            "Shape of y_train: (2400,)\n",
            "Shape of y_test: (600,)\n"
          ]
        }
      ]
    },
    {
      "cell_type": "code",
      "source": [
        "#6.Normalize the data with min-max scaling\n",
        "\n",
        "#---------------------------------------------------------code----------------------------------------------------------------------------------\n",
        "\n",
        "import pandas as pd\n",
        "from sklearn.preprocessing import MinMaxScaler\n",
        "\n",
        "\n",
        "target_column = data.columns[-1]\n",
        "features = data.drop(columns=[target_column])\n",
        "target = data[target_column]\n",
        "scaler = MinMaxScaler()\n",
        "features_normalized = scaler.fit_transform(features)\n",
        "features_normalized_df = pd.DataFrame(features_normalized, columns=features.columns)\n",
        "print(\"Normalized Features:\")\n",
        "print(features_normalized_df.head())\n",
        "\n"
      ],
      "metadata": {
        "colab": {
          "base_uri": "https://localhost:8080/"
        },
        "id": "0RAdgYbdRr73",
        "outputId": "eb7a8826-0a01-430b-a419-63f26b0ac3be"
      },
      "execution_count": 9,
      "outputs": [
        {
          "output_type": "stream",
          "name": "stdout",
          "text": [
            "Normalized Features:\n",
            "   longitude  latitude  housing_median_age  total_rooms  total_bedrooms  \\\n",
            "0   0.219814  0.513889            0.509804     0.127414        0.121654   \n",
            "1   0.606811  0.181624            0.823529     0.049402        0.056858   \n",
            "2   0.657379  0.130342            0.509804     0.117691        0.093225   \n",
            "3   0.600619  0.134615            0.529412     0.002004        0.002400   \n",
            "4   0.465428  0.402778            0.352941     0.040566        0.044674   \n",
            "\n",
            "   population  households  median_income  \n",
            "0    0.128416    0.122565       0.421277  \n",
            "1    0.067393    0.055804       0.213728  \n",
            "2    0.123973    0.100041       0.365064  \n",
            "3    0.003688    0.001826       0.388684  \n",
            "4    0.070830    0.047687       0.168108  \n"
          ]
        }
      ]
    }
  ]
}